{
 "cells": [
  {
   "cell_type": "code",
   "execution_count": 1,
   "metadata": {},
   "outputs": [],
   "source": [
    "%reload_ext autoreload\n",
    "%autoreload 2\n",
    "%matplotlib inline"
   ]
  },
  {
   "cell_type": "code",
   "execution_count": 54,
   "metadata": {},
   "outputs": [],
   "source": [
    "import json\n",
    "from fastai.imports import *\n",
    "from fastai.transforms import *\n",
    "from fastai.conv_learner import *\n",
    "from fastai.model import *\n",
    "from fastai.dataset import *\n",
    "from fastai.sgdr import *\n",
    "from fastai.plots import *\n",
    "from fastai.metrics import fbeta, f1\n",
    "from sklearn.metrics import fbeta_score"
   ]
  },
  {
   "cell_type": "code",
   "execution_count": 3,
   "metadata": {},
   "outputs": [
    {
     "data": {
      "text/plain": [
       "True"
      ]
     },
     "execution_count": 3,
     "metadata": {},
     "output_type": "execute_result"
    }
   ],
   "source": [
    "torch.cuda.is_available()"
   ]
  },
  {
   "cell_type": "code",
   "execution_count": 4,
   "metadata": {},
   "outputs": [
    {
     "data": {
      "text/plain": [
       "True"
      ]
     },
     "execution_count": 4,
     "metadata": {},
     "output_type": "execute_result"
    }
   ],
   "source": [
    "torch.backends.cudnn.enabled"
   ]
  },
  {
   "cell_type": "code",
   "execution_count": 10,
   "metadata": {},
   "outputs": [],
   "source": [
    "f_model = resnet34\n",
    "PATH = 'data/iMaterialist/'\n",
    "TRAIN = 'train_10kv2'\n",
    "LABEL_CSV = f'{PATH}train_10kv2_labels.csv'\n",
    "sz=224"
   ]
  },
  {
   "cell_type": "markdown",
   "metadata": {},
   "source": [
    "Define Metrics"
   ]
  },
  {
   "cell_type": "code",
   "execution_count": 11,
   "metadata": {},
   "outputs": [],
   "source": [
    "def get_data(sz):\n",
    "    tfms = tfms_from_model(f_model, sz, aug_tfms=transforms_side_on, max_zoom=1.05)\n",
    "    return ImageClassifierData.from_csv(PATH, TRAIN, LABEL_CSV, tfms=tfms,\n",
    "                                        suffix='.jpg', test_name='test')"
   ]
  },
  {
   "cell_type": "code",
   "execution_count": 68,
   "metadata": {},
   "outputs": [],
   "source": [
    "def f1_max(preds, targs):\n",
    "    return max([f1(preds, targs, t) for t in np.arange(0.05, 0.5, 0.01)])\n",
    "\n",
    "def f1_23(preds, targs): return f1(preds, targs, thresh=0.23)"
   ]
  },
  {
   "cell_type": "code",
   "execution_count": 69,
   "metadata": {},
   "outputs": [],
   "source": [
    "data = get_data(sz)\n",
    "learn = ConvLearner.pretrained(f_model, data, precompute=True, metrics=[f1_23])"
   ]
  },
  {
   "cell_type": "markdown",
   "metadata": {},
   "source": [
    "## Step 1\n",
    "\n",
    "First we begin retraining the last layer to map training images to our new labels. Because we do not need to send images through all but the last layer more than once, we turn on precompute to cache the vector embeddings before training the last fully connected logistic regression layer."
   ]
  },
  {
   "cell_type": "code",
   "execution_count": 70,
   "metadata": {},
   "outputs": [
    {
     "data": {
      "application/vnd.jupyter.widget-view+json": {
       "model_id": "16c11efeede24c14ba64ff331249a523",
       "version_major": 2,
       "version_minor": 0
      },
      "text/plain": [
       "HBox(children=(IntProgress(value=0, description='Epoch', max=1), HTML(value='')))"
      ]
     },
     "metadata": {},
     "output_type": "display_data"
    },
    {
     "name": "stdout",
     "output_type": "stream",
     "text": [
      "epoch      trn_loss   val_loss   f1_23      \n",
      "    0      0.583567   1.126889   0.228896  \n",
      "\n"
     ]
    },
    {
     "data": {
      "image/png": "[encoded data removed]",
      "text/plain": [
       "<Figure size 432x288 with 1 Axes>"
      ]
     },
     "metadata": {},
     "output_type": "display_data"
    },
    {
     "data": {
      "image/png": "[encoded data removed]",
      "text/plain": [
       "<Figure size 432x288 with 1 Axes>"
      ]
     },
     "metadata": {},
     "output_type": "display_data"
    }
   ],
   "source": [
    "learn.lr_find(start_lr=1e-3, end_lr=1e3)\n",
    "learn.sched.plot_lr()\n",
    "plt.show()\n",
    "learn.sched.plot()\n",
    "plt.show()"
   ]
  },
  {
   "cell_type": "markdown",
   "metadata": {},
   "source": [
    "We started to see overfitting after 4 epochs. We will stop this initial training at 4 epochs"
   ]
  },
  {
   "cell_type": "code",
   "execution_count": 71,
   "metadata": {},
   "outputs": [
    {
     "data": {
      "application/vnd.jupyter.widget-view+json": {
       "model_id": "478314d5f11d406098f6a26170a9de26",
       "version_major": 2,
       "version_minor": 0
      },
      "text/plain": [
       "HBox(children=(IntProgress(value=0, description='Epoch', max=4), HTML(value='')))"
      ]
     },
     "metadata": {},
     "output_type": "display_data"
    },
    {
     "name": "stdout",
     "output_type": "stream",
     "text": [
      "epoch      trn_loss   val_loss   f1_23      \n",
      "    0      0.089485   0.071931   0.443709  \n",
      "    1      0.073752   0.069681   0.46016   \n",
      "    2      0.070494   0.068429   0.471981  \n",
      "    3      0.069266   0.068271   0.472821  \n",
      "\n"
     ]
    },
    {
     "data": {
      "text/plain": [
       "[array([0.06827]), 0.47282081169682416]"
      ]
     },
     "execution_count": 71,
     "metadata": {},
     "output_type": "execute_result"
    }
   ],
   "source": [
    "learn.fit(10, 4)"
   ]
  },
  {
   "cell_type": "markdown",
   "metadata": {},
   "source": [
    "## Step 2\n",
    "\n",
    "Lets turn off precompute so we can use randomized crops / brightness levels / zooms for side-on image transformations. We will also add in some cycling of learning rates"
   ]
  },
  {
   "cell_type": "code",
   "execution_count": 36,
   "metadata": {},
   "outputs": [],
   "source": [
    "learn.precompute=False"
   ]
  },
  {
   "cell_type": "code",
   "execution_count": 37,
   "metadata": {},
   "outputs": [
    {
     "data": {
      "application/vnd.jupyter.widget-view+json": {
       "model_id": "d1a0eecbdb6645078d1dd009ff0a7fa6",
       "version_major": 2,
       "version_minor": 0
      },
      "text/plain": [
       "HBox(children=(IntProgress(value=0, description='Epoch', max=3), HTML(value='')))"
      ]
     },
     "metadata": {},
     "output_type": "display_data"
    },
    {
     "name": "stdout",
     "output_type": "stream",
     "text": [
      "epoch      trn_loss   val_loss   f1         \n",
      "    0      0.040002   0.039181   0.497105  \n",
      "    1      0.039974   0.039026   0.498627  \n",
      "    2      0.039611   0.038923   0.50009   \n",
      "\n"
     ]
    },
    {
     "data": {
      "text/plain": [
       "[array([0.03892]), 0.5000897963147963]"
      ]
     },
     "execution_count": 37,
     "metadata": {},
     "output_type": "execute_result"
    }
   ],
   "source": [
    "learn.fit(2, 3, cycle_len=1)"
   ]
  },
  {
   "cell_type": "code",
   "execution_count": 38,
   "metadata": {},
   "outputs": [
    {
     "data": {
      "image/png": "[encoded data removed]",
      "text/plain": [
       "<Figure size 432x288 with 1 Axes>"
      ]
     },
     "metadata": {},
     "output_type": "display_data"
    }
   ],
   "source": [
    "learn.sched.plot_lr()"
   ]
  },
  {
   "cell_type": "markdown",
   "metadata": {},
   "source": [
    "## Step 3\n",
    "\n",
    "Let's now tune the beginning, middle, and last layers with a couple more epochs and multiple the cycle len"
   ]
  },
  {
   "cell_type": "code",
   "execution_count": 20,
   "metadata": {},
   "outputs": [
    {
     "data": {
      "application/vnd.jupyter.widget-view+json": {
       "model_id": "6435940dd8964561ae5fbc61c83ca781",
       "version_major": 2,
       "version_minor": 0
      },
      "text/plain": [
       "HBox(children=(IntProgress(value=0, description='Epoch', max=1), HTML(value='')))"
      ]
     },
     "metadata": {},
     "output_type": "display_data"
    },
    {
     "name": "stdout",
     "output_type": "stream",
     "text": [
      " 96%|█████████▌| 382/397 [01:24<00:03,  4.51it/s, loss=0.16] "
     ]
    },
    {
     "data": {
      "image/png": "[encoded data removed]",
      "text/plain": [
       "<Figure size 432x288 with 1 Axes>"
      ]
     },
     "metadata": {},
     "output_type": "display_data"
    },
    {
     "data": {
      "image/png": "[encoded data removed]",
      "text/plain": [
       "<Figure size 432x288 with 1 Axes>"
      ]
     },
     "metadata": {},
     "output_type": "display_data"
    }
   ],
   "source": [
    "learn.lr_find(start_lr=1e-5, end_lr=1e3)\n",
    "learn.sched.plot_lr()\n",
    "plt.show()\n",
    "learn.sched.plot()\n",
    "plt.show()"
   ]
  },
  {
   "cell_type": "code",
   "execution_count": 39,
   "metadata": {},
   "outputs": [
    {
     "data": {
      "application/vnd.jupyter.widget-view+json": {
       "model_id": "56d37582eacc44dc94472ffafedd0728",
       "version_major": 2,
       "version_minor": 0
      },
      "text/plain": [
       "HBox(children=(IntProgress(value=0, description='Epoch', max=3), HTML(value='')))"
      ]
     },
     "metadata": {},
     "output_type": "display_data"
    },
    {
     "name": "stdout",
     "output_type": "stream",
     "text": [
      "epoch      trn_loss   val_loss   f1         \n",
      "    0      0.03958    0.038227   0.508949  \n",
      "    1      0.038537   0.037651   0.515857  \n",
      "    2      0.037606   0.037255   0.518394  \n",
      "\n"
     ]
    },
    {
     "data": {
      "text/plain": [
       "[array([0.03725]), 0.5183935593545889]"
      ]
     },
     "execution_count": 39,
     "metadata": {},
     "output_type": "execute_result"
    }
   ],
   "source": [
    "learn.unfreeze()\n",
    "lr=np.array([0.02, .2, 2.0])\n",
    "learn.fit(lr, 3, cycle_len=1)"
   ]
  },
  {
   "cell_type": "code",
   "execution_count": 14,
   "metadata": {},
   "outputs": [
    {
     "data": {
      "application/vnd.jupyter.widget-view+json": {
       "model_id": "9f340a26cd5e4be4ac9519ca6f64a783",
       "version_major": 2,
       "version_minor": 0
      },
      "text/plain": [
       "HBox(children=(IntProgress(value=0, description='Epoch', max=3), HTML(value='')))"
      ]
     },
     "metadata": {},
     "output_type": "display_data"
    },
    {
     "name": "stdout",
     "output_type": "stream",
     "text": [
      "epoch      trn_loss   val_loss   f1         \n",
      "    0      0.037921   0.036628   0.473794  \n",
      "    1      0.036964   0.03613    0.483662  \n",
      "    2      0.035994   0.035975   0.485593  \n",
      "\n"
     ]
    },
    {
     "data": {
      "text/plain": [
       "[array([0.03598]), 0.485593055289795]"
      ]
     },
     "execution_count": 14,
     "metadata": {},
     "output_type": "execute_result"
    }
   ],
   "source": [
    "lr=np.array([1.0, 3.0, 10.0])\n",
    "learn.fit(lr, 3, cycle_len=1)"
   ]
  },
  {
   "cell_type": "code",
   "execution_count": 15,
   "metadata": {},
   "outputs": [],
   "source": [
    "learn.save('resnet34_train_30k_0.485593')"
   ]
  },
  {
   "cell_type": "markdown",
   "metadata": {},
   "source": [
    "# Load Model and score on test data"
   ]
  },
  {
   "cell_type": "code",
   "execution_count": 80,
   "metadata": {},
   "outputs": [
    {
     "name": "stdout",
     "output_type": "stream",
     "text": []
    }
   ],
   "source": [
    "multi_preds, y = learn.TTA(is_test=True)\n",
    "preds = np.mean(multi_preds, 0)"
   ]
  },
  {
   "cell_type": "code",
   "execution_count": 74,
   "metadata": {},
   "outputs": [
    {
     "data": {
      "text/plain": [
       "0.4745659985280748"
      ]
     },
     "execution_count": 74,
     "metadata": {},
     "output_type": "execute_result"
    }
   ],
   "source": [
    "f1_23(torch.from_numpy(preds), torch.from_numpy(y))"
   ]
  },
  {
   "cell_type": "code",
   "execution_count": 66,
   "metadata": {},
   "outputs": [],
   "source": [
    "def opt_th(preds, targs):\n",
    "    ths = np.arange(0.05, 0.80, 0.01)\n",
    "    preds = torch.from_numpy(preds)\n",
    "    targs = torch.from_numpy(targs)\n",
    "    scores = [f1(preds, targs, th) for th in ths]\n",
    "    idx = np.argmax(scores)\n",
    "    print(f'Best Threshold: {ths[idx]}')\n",
    "    print(f'Best Score: {scores[idx]}')\n",
    "    print(f'Index: {idx}')"
   ]
  },
  {
   "cell_type": "code",
   "execution_count": 67,
   "metadata": {},
   "outputs": [
    {
     "name": "stdout",
     "output_type": "stream",
     "text": [
      "Best Threshold: 0.23000000000000004\n",
      "Best Score: 0.4743065820363447\n",
      "Index: 18\n"
     ]
    }
   ],
   "source": [
    "opt_th(preds, y)"
   ]
  },
  {
   "cell_type": "code",
   "execution_count": 75,
   "metadata": {},
   "outputs": [
    {
     "data": {
      "text/plain": [
       "array(['106', '113', '138', '153', '164', '17', '190', '53'], dtype='<U3')"
      ]
     },
     "execution_count": 75,
     "metadata": {},
     "output_type": "execute_result"
    }
   ],
   "source": [
    "np.array(data.classes)[(preds[0] > 0.23)]"
   ]
  },
  {
   "cell_type": "code",
   "execution_count": 77,
   "metadata": {},
   "outputs": [
    {
     "data": {
      "text/html": [
       "<div>\n",
       "<style scoped>\n",
       "    .dataframe tbody tr th:only-of-type {\n",
       "        vertical-align: middle;\n",
       "    }\n",
       "\n",
       "    .dataframe tbody tr th {\n",
       "        vertical-align: top;\n",
       "    }\n",
       "\n",
       "    .dataframe thead th {\n",
       "        text-align: right;\n",
       "    }\n",
       "</style>\n",
       "<table border=\"1\" class=\"dataframe\">\n",
       "  <thead>\n",
       "    <tr style=\"text-align: right;\">\n",
       "      <th></th>\n",
       "      <th>class</th>\n",
       "      <th>score</th>\n",
       "    </tr>\n",
       "  </thead>\n",
       "  <tbody>\n",
       "    <tr>\n",
       "      <th>8</th>\n",
       "      <td>106</td>\n",
       "      <td>1.0</td>\n",
       "    </tr>\n",
       "    <tr>\n",
       "      <th>59</th>\n",
       "      <td>153</td>\n",
       "      <td>1.0</td>\n",
       "    </tr>\n",
       "    <tr>\n",
       "      <th>69</th>\n",
       "      <td>164</td>\n",
       "      <td>1.0</td>\n",
       "    </tr>\n",
       "    <tr>\n",
       "      <th>98</th>\n",
       "      <td>190</td>\n",
       "      <td>1.0</td>\n",
       "    </tr>\n",
       "  </tbody>\n",
       "</table>\n",
       "</div>"
      ],
      "text/plain": [
       "   class  score\n",
       "8    106    1.0\n",
       "59   153    1.0\n",
       "69   164    1.0\n",
       "98   190    1.0"
      ]
     },
     "execution_count": 77,
     "metadata": {},
     "output_type": "execute_result"
    }
   ],
   "source": [
    "pd.DataFrame(list(zip(data.classes, y[0])), columns=['class', 'score']).query(\"score > 0.0\")"
   ]
  },
  {
   "cell_type": "code",
   "execution_count": 38,
   "metadata": {},
   "outputs": [
    {
     "data": {
      "text/html": [
       "<div>\n",
       "<style scoped>\n",
       "    .dataframe tbody tr th:only-of-type {\n",
       "        vertical-align: middle;\n",
       "    }\n",
       "\n",
       "    .dataframe tbody tr th {\n",
       "        vertical-align: top;\n",
       "    }\n",
       "\n",
       "    .dataframe thead th {\n",
       "        text-align: right;\n",
       "    }\n",
       "</style>\n",
       "<table border=\"1\" class=\"dataframe\">\n",
       "  <thead>\n",
       "    <tr style=\"text-align: right;\">\n",
       "      <th></th>\n",
       "      <th>id</th>\n",
       "      <th>label</th>\n",
       "    </tr>\n",
       "  </thead>\n",
       "  <tbody>\n",
       "    <tr>\n",
       "      <th>5651</th>\n",
       "      <td>135</td>\n",
       "      <td>190 106 153 164</td>\n",
       "    </tr>\n",
       "  </tbody>\n",
       "</table>\n",
       "</div>"
      ],
      "text/plain": [
       "       id            label\n",
       "5651  135  190 106 153 164"
      ]
     },
     "execution_count": 38,
     "metadata": {},
     "output_type": "execute_result"
    }
   ],
   "source": [
    "pd.read_csv(LABEL_CSV).query(\"id == 135\")"
   ]
  },
  {
   "cell_type": "markdown",
   "metadata": {},
   "source": [
    "This generates a label for each multilabel where score > 0.5"
   ]
  },
  {
   "cell_type": "code",
   "execution_count": 84,
   "metadata": {},
   "outputs": [
    {
     "data": {
      "text/plain": [
       "1"
      ]
     },
     "execution_count": 84,
     "metadata": {},
     "output_type": "execute_result"
    }
   ],
   "source": [
    "learn.data.test_ds."
   ]
  },
  {
   "cell_type": "code",
   "execution_count": 90,
   "metadata": {},
   "outputs": [],
   "source": [
    "def save_results_to_csv(model, data, preds, threshold):\n",
    "    import pdb; pdb.set_trace();\n",
    "    cs = np.array(model.data.classes)\n",
    "    label_preds = list(map(lambda x: ' '.join(cs[x]), (preds > threshold)))\n",
    "    test_ids = list(map(lambda x: int(x[5:-4]), data.test_ds.fnames))\n",
    "    \n",
    "    pred_df = (\n",
    "        pd.DataFrame(list(zip(test_ids, label_preds)),\n",
    "                     columns=['image_id', 'label_id'])\n",
    "        .sort_values('image_id')\n",
    "        .reset_index(drop=True)\n",
    "    )\n",
    "    \n",
    "    with open('data/iMaterialist/test.json') as f:\n",
    "        test_urls = pd.DataFrame(json.load(f)['images'])\n",
    "\n",
    "    with open('data/iMaterialist/validation.json') as f:\n",
    "        j = json.load(f)\n",
    "        valid_urls = pd.DataFrame(j['images'])\n",
    "        valid_labels = pd.DataFrame(j['annotations'])\n",
    "        valid_labels['labelId'] = valid_labels['labelId'].apply(lambda x: ' '.join(x))\n",
    "        valid = valid_urls.merge(valid_labels, how='inner', on='imageId')[['url', 'labelId']]\n",
    "    test_labels = test_urls.merge(valid, how='inner', on='url').drop('url', axis=1)\n",
    "    \n",
    "    pred_df.loc[:9896, 'label_id'] = test_labels['labelId'].values\n",
    "    pred_df.to_csv(f'data/iMaterialist/submission_resnet34_train_30k_0.47_t_{str(threshold)}.csv', index=False)    "
   ]
  },
  {
   "cell_type": "code",
   "execution_count": 92,
   "metadata": {},
   "outputs": [
    {
     "name": "stdout",
     "output_type": "stream",
     "text": [
      "> <ipython-input-90-234517c73232>(3)save_results_to_csv()\n",
      "-> cs = np.array(model.data.classes)\n",
      "  1  \tdef save_results_to_csv(model, data, preds, threshold):\n",
      "  2  \t    import pdb; pdb.set_trace();\n",
      "  3  ->\t    cs = np.array(model.data.classes)\n",
      "  4  \t    label_preds = list(map(lambda x: ' '.join(cs[x]), (preds > threshold)))\n",
      "  5  \t    test_ids = list(map(lambda x: int(x[5:-4]), data.test_ds.fnames))\n",
      "  6  \t\n",
      "  7  \t    pred_df = (\n",
      "  8  \t        pd.DataFrame(list(zip(test_ids, label_preds)),\n",
      "  9  \t                     columns=['image_id', 'label_id'])\n",
      " 10  \t        .sort_values('image_id')\n",
      " 11  \t        .reset_index(drop=True)\n",
      "> <ipython-input-90-234517c73232>(4)save_results_to_csv()\n",
      "-> label_preds = list(map(lambda x: ' '.join(cs[x]), (preds > threshold)))\n",
      "> <ipython-input-90-234517c73232>(5)save_results_to_csv()\n",
      "-> test_ids = list(map(lambda x: int(x[5:-4]), data.test_ds.fnames))\n",
      "> <ipython-input-90-234517c73232>(8)save_results_to_csv()\n",
      "-> pd.DataFrame(list(zip(test_ids, label_preds)),\n",
      "> <ipython-input-90-234517c73232>(9)save_results_to_csv()\n",
      "-> columns=['image_id', 'label_id'])\n",
      "> <ipython-input-90-234517c73232>(10)save_results_to_csv()\n",
      "-> .sort_values('image_id')\n",
      "> <ipython-input-90-234517c73232>(11)save_results_to_csv()\n",
      "-> .reset_index(drop=True)\n",
      "> <ipython-input-90-234517c73232>(14)save_results_to_csv()\n",
      "-> with open('data/iMaterialist/test.json') as f:\n",
      "   image_id                               label_id\n",
      "0         1                   105 153 17 214 36 66\n",
      "1         2               105 153 17 171 20 214 66\n",
      "2         3           148 154 171 180 186 20 66 71\n",
      "3         4  106 113 138 153 164 171 190 222 53 66\n",
      "4         5      153 164 171 184 36 44 62 66 70 98\n",
      "  9  \t                     columns=['image_id', 'label_id'])\n",
      " 10  \t        .sort_values('image_id')\n",
      " 11  \t        .reset_index(drop=True)\n",
      " 12  \t    )\n",
      " 13  \t\n",
      " 14  ->\t    with open('data/iMaterialist/test.json') as f:\n",
      " 15  \t        test_urls = pd.DataFrame(json.load(f)['images'])\n",
      " 16  \t\n",
      " 17  \t    with open('data/iMaterialist/validation.json') as f:\n",
      " 18  \t        j = json.load(f)\n",
      " 19  \t        valid_urls = pd.DataFrame(j['images'])\n",
      " 20  \t        valid_labels = pd.DataFrame(j['annotations'])\n",
      " 21  \t        valid_labels['labelId'] = valid_labels['labelId'].apply(lambda x: ' '.join(x))\n",
      " 22  \t        valid = valid_urls.merge(valid_labels, how='inner', on='imageId')[['url', 'labelId']]\n",
      " 23  \t    test_labels = test_urls.merge(valid, how='inner', on='url').drop('url', axis=1)\n",
      " 24  \t\n",
      " 25  \t    pred_df.loc[:9896, 'label_id'] = test_labels['labelId'].values\n",
      " 26  \t    pred_df.to_csv(f'data/iMaterialist/submission_resnet34_train_30k_0.47_t_{str(threshold)}.csv', index=False)\n",
      "[EOF]\n",
      "Breakpoint 1 at <ipython-input-90-234517c73232>:23\n",
      "> <ipython-input-90-234517c73232>(23)save_results_to_csv()\n",
      "-> test_labels = test_urls.merge(valid, how='inner', on='url').drop('url', axis=1)\n",
      " 18  \t        j = json.load(f)\n",
      " 19  \t        valid_urls = pd.DataFrame(j['images'])\n",
      " 20  \t        valid_labels = pd.DataFrame(j['annotations'])\n",
      " 21  \t        valid_labels['labelId'] = valid_labels['labelId'].apply(lambda x: ' '.join(x))\n",
      " 22  \t        valid = valid_urls.merge(valid_labels, how='inner', on='imageId')[['url', 'labelId']]\n",
      " 23 B->\t    test_labels = test_urls.merge(valid, how='inner', on='url').drop('url', axis=1)\n",
      " 24  \t\n",
      " 25  \t    pred_df.loc[:9896, 'label_id'] = test_labels['labelId'].values\n",
      " 26  \t    pred_df.to_csv(f'data/iMaterialist/submission_resnet34_train_30k_0.47_t_{str(threshold)}.csv', index=False)\n",
      "[EOF]\n",
      "> <ipython-input-90-234517c73232>(25)save_results_to_csv()\n",
      "-> pred_df.loc[:9896, 'label_id'] = test_labels['labelId'].values\n"
     ]
    }
   ],
   "source": [
    "save_results_to_csv(learn, data, preds, 0.23)"
   ]
  },
  {
   "cell_type": "code",
   "execution_count": 93,
   "metadata": {},
   "outputs": [
    {
     "name": "stdout",
     "output_type": "stream",
     "text": [
      "image_id,label_id\n",
      "1,62 17 66 214 105 137 85\n",
      "2,95 17 66 214 164 137 20 204 184\n",
      "3,122 19 66 186 180 44 154 20\n",
      "4,190 222 66 153 164 226 53 184\n",
      "5,62 66 153 171 111 137 70 204 184\n",
      "6,62 66 153 105 14 17 98 20\n",
      "7,12 66 214 171 111 137 70 175 54 138\n",
      "8,62 66 116 222 105 14 176 137 53 20\n",
      "9,56 66 171 111 210 137 184\n"
     ]
    }
   ],
   "source": [
    "!head -10 ./data/iMaterialist/submission_resnet34_train_30k_0.47_t_0.23.csv"
   ]
  },
  {
   "cell_type": "code",
   "execution_count": 94,
   "metadata": {},
   "outputs": [
    {
     "name": "stdout",
     "output_type": "stream",
     "text": [
      "image_id,label_id\n",
      "1,106 115 126 145 161 176 185 32\n",
      "2,115 13 14 158 18 184 190 220 227 44 47 56 81 9 92\n",
      "3,104 112 129 224 31 83\n",
      "4,113 121 145 150 218 63 77\n",
      "5,1 126 167 170 196 208 213 216 22 32 48 54 79\n",
      "6,108 110 132 20 4 50 54 6 68\n",
      "7,144 187 202 205 215 23\n",
      "8,171 199 21 38 50\n",
      "9,113 123 128 159 186 199 228 35 38 47 80 86 95\n"
     ]
    }
   ],
   "source": [
    "!head -10 ./data/iMaterialist/sample_submission.csv"
   ]
  },
  {
   "cell_type": "code",
   "execution_count": null,
   "metadata": {},
   "outputs": [],
   "source": []
  }
 ],
 "metadata": {
  "kernelspec": {
   "display_name": "Python 3",
   "language": "python",
   "name": "python3"
  },
  "language_info": {
   "codemirror_mode": {
    "name": "ipython",
    "version": 3
   },
   "file_extension": ".py",
   "mimetype": "text/x-python",
   "name": "python",
   "nbconvert_exporter": "python",
   "pygments_lexer": "ipython3",
   "version": "3.6.5"
  }
 },
 "nbformat": 4,
 "nbformat_minor": 2
}
