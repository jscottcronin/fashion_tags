{
 "cells": [
  {
   "cell_type": "markdown",
   "metadata": {},
   "source": [
    "This notebook leverades 40k training data. Labels include all images for rare labels, and random images for most common labels."
   ]
  },
  {
   "cell_type": "code",
   "execution_count": 5,
   "metadata": {},
   "outputs": [],
   "source": [
    "%reload_ext autoreload\n",
    "%autoreload 2\n",
    "%matplotlib inline"
   ]
  },
  {
   "cell_type": "code",
   "execution_count": 6,
   "metadata": {},
   "outputs": [],
   "source": [
    "import json\n",
    "from fastai.imports import *\n",
    "from fastai.transforms import *\n",
    "from fastai.conv_learner import *\n",
    "from fastai.model import *\n",
    "from fastai.dataset import *\n",
    "from fastai.sgdr import *\n",
    "from fastai.plots import *\n",
    "from fastai.metrics import fbeta, f1"
   ]
  },
  {
   "cell_type": "code",
   "execution_count": 7,
   "metadata": {},
   "outputs": [
    {
     "data": {
      "text/plain": [
       "True"
      ]
     },
     "execution_count": 7,
     "metadata": {},
     "output_type": "execute_result"
    }
   ],
   "source": [
    "torch.cuda.is_available()"
   ]
  },
  {
   "cell_type": "code",
   "execution_count": 8,
   "metadata": {},
   "outputs": [
    {
     "data": {
      "text/plain": [
       "True"
      ]
     },
     "execution_count": 8,
     "metadata": {},
     "output_type": "execute_result"
    }
   ],
   "source": [
    "torch.backends.cudnn.enabled"
   ]
  },
  {
   "cell_type": "code",
   "execution_count": 9,
   "metadata": {},
   "outputs": [],
   "source": [
    "f_model = resnet34\n",
    "PATH = 'data/iMaterialist/'\n",
    "TRAIN = 'train_40k'\n",
    "LABEL_CSV = f'{PATH}train_40k_labels.csv'\n",
    "sz=224"
   ]
  },
  {
   "cell_type": "markdown",
   "metadata": {},
   "source": [
    "Define Metrics"
   ]
  },
  {
   "cell_type": "code",
   "execution_count": 10,
   "metadata": {},
   "outputs": [],
   "source": [
    "def get_data(sz):\n",
    "    tfms = tfms_from_model(f_model, sz, aug_tfms=transforms_side_on, max_zoom=1.05)\n",
    "    return ImageClassifierData.from_csv(PATH, TRAIN, LABEL_CSV, tfms=tfms,\n",
    "                                        suffix='.jpg', test_name='test')"
   ]
  },
  {
   "cell_type": "code",
   "execution_count": 11,
   "metadata": {},
   "outputs": [],
   "source": [
    "def f1_max(preds, targs):\n",
    "    return max([f1(preds, targs, t) for t in np.arange(0.05, 0.5, 0.01)])\n",
    "\n",
    "def f1_23(preds, targs): return f1(preds, targs, thresh=0.23)"
   ]
  },
  {
   "cell_type": "code",
   "execution_count": 12,
   "metadata": {},
   "outputs": [
    {
     "name": "stdout",
     "output_type": "stream",
     "text": [
      "100%|██████████| 537/537 [01:34<00:00,  5.67it/s]\n",
      "100%|██████████| 135/135 [00:19<00:00,  6.90it/s]\n",
      "100%|██████████| 621/621 [01:48<00:00,  5.72it/s]\n"
     ]
    }
   ],
   "source": [
    "data = get_data(sz)\n",
    "learn = ConvLearner.pretrained(f_model, data, precompute=True, metrics=[f1_23])"
   ]
  },
  {
   "cell_type": "markdown",
   "metadata": {},
   "source": [
    "## Step 1\n",
    "\n",
    "First we begin retraining the last layer to map training images to our new labels. Because we do not need to send images through all but the last layer more than once, we turn on precompute to cache the vector embeddings before training the last fully connected logistic regression layer."
   ]
  },
  {
   "cell_type": "code",
   "execution_count": 13,
   "metadata": {},
   "outputs": [
    {
     "data": {
      "application/vnd.jupyter.widget-view+json": {
       "model_id": "6fbbfc6714c149eba49f59a325a2ba02",
       "version_major": 2,
       "version_minor": 0
      },
      "text/plain": [
       "HBox(children=(IntProgress(value=0, description='Epoch', max=1), HTML(value='')))"
      ]
     },
     "metadata": {},
     "output_type": "display_data"
    },
    {
     "name": "stdout",
     "output_type": "stream",
     "text": [
      " 91%|█████████ | 490/537 [00:09<00:00, 49.74it/s, loss=0.383]\n"
     ]
    },
    {
     "data": {
      "image/png": "[encoded data removed]",
      "text/plain": [
       "<Figure size 432x288 with 1 Axes>"
      ]
     },
     "metadata": {},
     "output_type": "display_data"
    },
    {
     "data": {
      "image/png": "[encoded data removed]",
      "text/plain": [
       "<Figure size 432x288 with 1 Axes>"
      ]
     },
     "metadata": {},
     "output_type": "display_data"
    }
   ],
   "source": [
    "learn.lr_find(start_lr=1e-3, end_lr=1e3)\n",
    "learn.sched.plot_lr()\n",
    "plt.show()\n",
    "learn.sched.plot()\n",
    "plt.show()"
   ]
  },
  {
   "cell_type": "markdown",
   "metadata": {},
   "source": [
    "We started to see overfitting after 4 epochs. We will stop this initial training at 4 epochs"
   ]
  },
  {
   "cell_type": "code",
   "execution_count": 15,
   "metadata": {},
   "outputs": [],
   "source": [
    "lr = 10."
   ]
  },
  {
   "cell_type": "code",
   "execution_count": 16,
   "metadata": {},
   "outputs": [
    {
     "data": {
      "application/vnd.jupyter.widget-view+json": {
       "model_id": "bdb928a8683e4a68ae8e4d1e85942273",
       "version_major": 2,
       "version_minor": 0
      },
      "text/plain": [
       "HBox(children=(IntProgress(value=0, description='Epoch', max=7), HTML(value='')))"
      ]
     },
     "metadata": {},
     "output_type": "display_data"
    },
    {
     "name": "stdout",
     "output_type": "stream",
     "text": [
      "epoch      trn_loss   val_loss   f1_23      \n",
      "    0      0.080031   0.076072   0.423842  \n",
      "    1      0.07651    0.071811   0.453614  \n",
      "    2      0.073644   0.07043    0.463226  \n",
      "    3      0.074648   0.07034    0.462523  \n",
      "    4      0.072437   0.069176   0.472705  \n",
      "    5      0.070887   0.06845    0.479146  \n",
      "    6      0.069726   0.068185   0.481925  \n",
      "\n"
     ]
    },
    {
     "data": {
      "text/plain": [
       "[array([0.06819]), 0.4819250580632782]"
      ]
     },
     "execution_count": 16,
     "metadata": {},
     "output_type": "execute_result"
    }
   ],
   "source": [
    "learn.fit(lr, 3, cycle_len=1, cycle_mult=2)"
   ]
  },
  {
   "cell_type": "code",
   "execution_count": null,
   "metadata": {},
   "outputs": [],
   "source": [
    "learn.sched.plot_loss()"
   ]
  },
  {
   "cell_type": "code",
   "execution_count": 18,
   "metadata": {},
   "outputs": [],
   "source": [
    "learn.save('resnet34_train_40k_v4_1')"
   ]
  },
  {
   "cell_type": "markdown",
   "metadata": {},
   "source": [
    "Unfreeze"
   ]
  },
  {
   "cell_type": "code",
   "execution_count": 19,
   "metadata": {},
   "outputs": [],
   "source": [
    "lrs = np.array([lr/50,lr/7,lr])"
   ]
  },
  {
   "cell_type": "code",
   "execution_count": 20,
   "metadata": {},
   "outputs": [
    {
     "data": {
      "application/vnd.jupyter.widget-view+json": {
       "model_id": "f1a572035fa641228ff0db809261e925",
       "version_major": 2,
       "version_minor": 0
      },
      "text/plain": [
       "HBox(children=(IntProgress(value=0, description='Epoch', max=7), HTML(value='')))"
      ]
     },
     "metadata": {},
     "output_type": "display_data"
    },
    {
     "name": "stdout",
     "output_type": "stream",
     "text": [
      "epoch      trn_loss   val_loss   f1_23      \n",
      "    0      0.071583   0.068119   0.481708  \n",
      "    1      0.072429   0.068255   0.480404  \n",
      "    2      0.070911   0.06751    0.487146  \n",
      "    3      0.07256    0.068957   0.469549  \n",
      "    4      0.071247   0.067573   0.484903  \n",
      "    5      0.069886   0.067106   0.489427  \n",
      "    6      0.069022   0.066849   0.491091  \n",
      "\n"
     ]
    },
    {
     "data": {
      "text/plain": [
       "[array([0.06685]), 0.4910909522432502]"
      ]
     },
     "execution_count": 20,
     "metadata": {},
     "output_type": "execute_result"
    }
   ],
   "source": [
    "learn.unfreeze()\n",
    "learn.fit(lrs, 3, cycle_len=1, cycle_mult=2)"
   ]
  },
  {
   "cell_type": "code",
   "execution_count": 22,
   "metadata": {},
   "outputs": [
    {
     "data": {
      "image/png": "[encoded data removed]",
      "text/plain": [
       "<Figure size 432x288 with 1 Axes>"
      ]
     },
     "metadata": {},
     "output_type": "display_data"
    }
   ],
   "source": [
    "learn.sched.plot_loss()"
   ]
  },
  {
   "cell_type": "code",
   "execution_count": 23,
   "metadata": {},
   "outputs": [],
   "source": [
    "learn.save('resnet34_train_40k_v4_2')"
   ]
  },
  {
   "cell_type": "markdown",
   "metadata": {},
   "source": [
    "Change Size"
   ]
  },
  {
   "cell_type": "code",
   "execution_count": 25,
   "metadata": {},
   "outputs": [
    {
     "data": {
      "application/vnd.jupyter.widget-view+json": {
       "model_id": "e3c935a271ac4cbfb04c07c611c504f7",
       "version_major": 2,
       "version_minor": 0
      },
      "text/plain": [
       "HBox(children=(IntProgress(value=0, description='Epoch', max=7), HTML(value='')))"
      ]
     },
     "metadata": {},
     "output_type": "display_data"
    },
    {
     "name": "stdout",
     "output_type": "stream",
     "text": [
      "epoch      trn_loss   val_loss   f1_23      \n",
      "    0      0.069377   0.066234   0.495652  \n",
      "    1      0.070673   0.066553   0.491794  \n",
      "    2      0.068413   0.065886   0.497007  \n",
      "    3      0.07035    0.066805   0.488672  \n",
      "    4      0.069571   0.065987   0.496895  \n",
      "    5      0.068488   0.065501   0.501296  \n",
      "    6      0.06721    0.065331   0.502816  \n",
      "\n"
     ]
    },
    {
     "data": {
      "text/plain": [
       "[array([0.06533]), 0.5028161812675518]"
      ]
     },
     "execution_count": 25,
     "metadata": {},
     "output_type": "execute_result"
    }
   ],
   "source": [
    "sz = 299\n",
    "learn.set_data(get_data(sz))\n",
    "learn.freeze()\n",
    "learn.fit(lr, 3, cycle_len=1, cycle_mult=2)"
   ]
  },
  {
   "cell_type": "code",
   "execution_count": 26,
   "metadata": {},
   "outputs": [
    {
     "data": {
      "image/png": "[encoded data removed]",
      "text/plain": [
       "<Figure size 432x288 with 1 Axes>"
      ]
     },
     "metadata": {},
     "output_type": "display_data"
    }
   ],
   "source": [
    "learn.sched.plot_loss()"
   ]
  },
  {
   "cell_type": "code",
   "execution_count": 27,
   "metadata": {},
   "outputs": [
    {
     "data": {
      "image/png": "[encoded data removed]",
      "text/plain": [
       "<Figure size 432x288 with 1 Axes>"
      ]
     },
     "metadata": {},
     "output_type": "display_data"
    }
   ],
   "source": [
    "learn.sched.plot_lr()"
   ]
  },
  {
   "cell_type": "code",
   "execution_count": 28,
   "metadata": {},
   "outputs": [],
   "source": [
    "learn.save('resnet34_train_40k_v4_3')"
   ]
  },
  {
   "cell_type": "markdown",
   "metadata": {},
   "source": [
    "Moving learnings rates down an order of magnitude"
   ]
  },
  {
   "cell_type": "code",
   "execution_count": 29,
   "metadata": {},
   "outputs": [],
   "source": [
    "lrs = np.array([lr/500.,lr/70.,lr/10.])"
   ]
  },
  {
   "cell_type": "code",
   "execution_count": 30,
   "metadata": {},
   "outputs": [
    {
     "data": {
      "application/vnd.jupyter.widget-view+json": {
       "model_id": "aaa42a8c1d2848c29996782c80e82d95",
       "version_major": 2,
       "version_minor": 0
      },
      "text/plain": [
       "HBox(children=(IntProgress(value=0, description='Epoch', max=7), HTML(value='')))"
      ]
     },
     "metadata": {},
     "output_type": "display_data"
    },
    {
     "name": "stdout",
     "output_type": "stream",
     "text": [
      "epoch      trn_loss   val_loss   f1_23      \n",
      "    0      0.066269   0.063454   0.518963  \n",
      "    1      0.065314   0.062201   0.52693   \n",
      "    2      0.063448   0.061892   0.531124  \n",
      "    3      0.063287   0.061566   0.533093  \n",
      "    4      0.061545   0.061071   0.537075  \n",
      "    5      0.060408   0.060784   0.541014  \n",
      "    6      0.059368   0.060776   0.539607  \n",
      "\n"
     ]
    },
    {
     "data": {
      "text/plain": [
       "[array([0.06078]), 0.539606915292373]"
      ]
     },
     "execution_count": 30,
     "metadata": {},
     "output_type": "execute_result"
    }
   ],
   "source": [
    "learn.unfreeze()\n",
    "learn.fit(lrs, 3, cycle_len=1, cycle_mult=2)"
   ]
  },
  {
   "cell_type": "code",
   "execution_count": 31,
   "metadata": {},
   "outputs": [
    {
     "data": {
      "image/png": "[encoded data removed]",
      "text/plain": [
       "<Figure size 432x288 with 1 Axes>"
      ]
     },
     "metadata": {},
     "output_type": "display_data"
    }
   ],
   "source": [
    "learn.sched.plot_loss()"
   ]
  },
  {
   "cell_type": "code",
   "execution_count": 32,
   "metadata": {},
   "outputs": [],
   "source": [
    "learn.save('resnet34_train_40k_v4_4')"
   ]
  },
  {
   "cell_type": "markdown",
   "metadata": {},
   "source": [
    "# Find best threshold"
   ]
  },
  {
   "cell_type": "code",
   "execution_count": 33,
   "metadata": {},
   "outputs": [
    {
     "name": "stdout",
     "output_type": "stream",
     "text": []
    }
   ],
   "source": [
    "multi_preds, y = learn.TTA()\n",
    "preds = np.mean(multi_preds, 0)"
   ]
  },
  {
   "cell_type": "code",
   "execution_count": 36,
   "metadata": {},
   "outputs": [],
   "source": [
    "def opt_th(preds, targs):\n",
    "    ths = np.arange(0.05, 0.5, 0.01)\n",
    "    f1s = [f1(torch.from_numpy(preds), torch.from_numpy(targs), th) for th in ths]\n",
    "    idx = np.argmax(f1s)\n",
    "    print(f'Best Threshold: {ths[idx]}')\n",
    "    print(f'Best Score: {f1s[idx]}')\n",
    "    print(f'Index: {idx}')\n",
    "    plt.plot(ths, f1s, 'o-')\n",
    "    plt.show()"
   ]
  },
  {
   "cell_type": "code",
   "execution_count": 37,
   "metadata": {},
   "outputs": [
    {
     "name": "stdout",
     "output_type": "stream",
     "text": [
      "Best Threshold: 0.24000000000000005\n",
      "Best Score: 0.5445996458784184\n",
      "Index: 19\n"
     ]
    },
    {
     "data": {
      "image/png": "[encoded data removed]",
      "text/plain": [
       "<Figure size 432x288 with 1 Axes>"
      ]
     },
     "metadata": {},
     "output_type": "display_data"
    }
   ],
   "source": [
    "opt_th(preds, y)"
   ]
  },
  {
   "cell_type": "markdown",
   "metadata": {},
   "source": [
    "# Load Model and score on test data"
   ]
  },
  {
   "cell_type": "code",
   "execution_count": 38,
   "metadata": {},
   "outputs": [
    {
     "name": "stdout",
     "output_type": "stream",
     "text": []
    }
   ],
   "source": [
    "multi_preds, y = learn.TTA(is_test=True)\n",
    "preds = np.mean(multi_preds, 0)"
   ]
  },
  {
   "cell_type": "code",
   "execution_count": 39,
   "metadata": {},
   "outputs": [],
   "source": [
    "def save_results_to_csv(model, data, preds, threshold):\n",
    "    import pdb; pdb.set_trace();\n",
    "    cs = np.array(model.data.classes)\n",
    "    label_preds = list(map(lambda x: ' '.join(cs[x]), (preds > threshold)))\n",
    "    test_ids = list(map(lambda x: int(x[5:-4]), data.test_ds.fnames))\n",
    "    \n",
    "    pred_df = (\n",
    "        pd.DataFrame(list(zip(test_ids, label_preds)),\n",
    "                     columns=['image_id', 'label_id'])\n",
    "        .sort_values('image_id')\n",
    "        .reset_index(drop=True)\n",
    "    )\n",
    "    \n",
    "    with open('data/iMaterialist/test.json') as f:\n",
    "        test_urls = pd.DataFrame(json.load(f)['images'])\n",
    "\n",
    "    with open('data/iMaterialist/validation.json') as f:\n",
    "        j = json.load(f)\n",
    "        valid_urls = pd.DataFrame(j['images'])\n",
    "        valid_labels = pd.DataFrame(j['annotations'])\n",
    "        valid_labels['labelId'] = valid_labels['labelId'].apply(lambda x: ' '.join(x))\n",
    "        valid = valid_urls.merge(valid_labels, how='inner', on='imageId')[['url', 'labelId']]\n",
    "    test_labels = test_urls.merge(valid, how='inner', on='url').drop('url', axis=1)\n",
    "    \n",
    "    pred_df.loc[:9896, 'label_id'] = test_labels['labelId'].values\n",
    "    pred_df.to_csv(f'data/iMaterialist/submission_resnet34_v4_train_40k_0.54_t_{str(threshold)}.csv', index=False)    "
   ]
  },
  {
   "cell_type": "code",
   "execution_count": 40,
   "metadata": {},
   "outputs": [
    {
     "name": "stdout",
     "output_type": "stream",
     "text": [
      "> <ipython-input-39-7a10678b633d>(3)save_results_to_csv()\n",
      "-> cs = np.array(model.data.classes)\n"
     ]
    }
   ],
   "source": [
    "save_results_to_csv(learn, data, preds, 0.24)"
   ]
  },
  {
   "cell_type": "code",
   "execution_count": 41,
   "metadata": {},
   "outputs": [
    {
     "name": "stdout",
     "output_type": "stream",
     "text": [
      "image_id,label_id\n",
      "1,62 17 66 214 105 137 85\n",
      "2,95 17 66 214 164 137 20 204 184\n",
      "3,122 19 66 186 180 44 154 20\n",
      "4,190 222 66 153 164 226 53 184\n",
      "5,62 66 153 171 111 137 70 204 184\n",
      "6,62 66 153 105 14 17 98 20\n",
      "7,12 66 214 171 111 137 70 175 54 138\n",
      "8,62 66 116 222 105 14 176 137 53 20\n",
      "9,56 66 171 111 210 137 184\n"
     ]
    }
   ],
   "source": [
    "!head -10 ./data/iMaterialist/submission_resnet34_v4_train_40k_0.54_t_0.24.csv"
   ]
  },
  {
   "cell_type": "code",
   "execution_count": 42,
   "metadata": {},
   "outputs": [
    {
     "name": "stdout",
     "output_type": "stream",
     "text": [
      "image_id,label_id\n",
      "1,106 115 126 145 161 176 185 32\n",
      "2,115 13 14 158 18 184 190 220 227 44 47 56 81 9 92\n",
      "3,104 112 129 224 31 83\n",
      "4,113 121 145 150 218 63 77\n",
      "5,1 126 167 170 196 208 213 216 22 32 48 54 79\n",
      "6,108 110 132 20 4 50 54 6 68\n",
      "7,144 187 202 205 215 23\n",
      "8,171 199 21 38 50\n",
      "9,113 123 128 159 186 199 228 35 38 47 80 86 95\n"
     ]
    }
   ],
   "source": [
    "!head -10 ./data/iMaterialist/sample_submission.csv"
   ]
  },
  {
   "cell_type": "code",
   "execution_count": null,
   "metadata": {},
   "outputs": [],
   "source": []
  }
 ],
 "metadata": {
  "kernelspec": {
   "display_name": "Python 3",
   "language": "python",
   "name": "python3"
  },
  "language_info": {
   "codemirror_mode": {
    "name": "ipython",
    "version": 3
   },
   "file_extension": ".py",
   "mimetype": "text/x-python",
   "name": "python",
   "nbconvert_exporter": "python",
   "pygments_lexer": "ipython3",
   "version": "3.6.5"
  }
 },
 "nbformat": 4,
 "nbformat_minor": 2
}
