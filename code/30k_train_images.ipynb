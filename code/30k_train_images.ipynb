{
 "cells": [
  {
   "cell_type": "markdown",
   "metadata": {},
   "source": [
    "# Purpose\n",
    "\n",
    "Create a larger training set of ~30,000 images:\n",
    "1. Balance classes better\n",
    "2. Prioritize images with fewer tags"
   ]
  },
  {
   "cell_type": "code",
   "execution_count": 100,
   "metadata": {},
   "outputs": [],
   "source": [
    "%matplotlib inline\n",
    "\n",
    "import numpy as np\n",
    "import pandas as pd\n",
    "import json\n",
    "\n",
    "import matplotlib.pyplot as plt"
   ]
  },
  {
   "cell_type": "markdown",
   "metadata": {},
   "source": [
    "Load in training image details"
   ]
  },
  {
   "cell_type": "code",
   "execution_count": 113,
   "metadata": {},
   "outputs": [
    {
     "name": "stdout",
     "output_type": "stream",
     "text": [
      "URLs df\n",
      "------\n"
     ]
    },
    {
     "data": {
      "text/html": [
       "<div>\n",
       "<style scoped>\n",
       "    .dataframe tbody tr th:only-of-type {\n",
       "        vertical-align: middle;\n",
       "    }\n",
       "\n",
       "    .dataframe tbody tr th {\n",
       "        vertical-align: top;\n",
       "    }\n",
       "\n",
       "    .dataframe thead th {\n",
       "        text-align: right;\n",
       "    }\n",
       "</style>\n",
       "<table border=\"1\" class=\"dataframe\">\n",
       "  <thead>\n",
       "    <tr style=\"text-align: right;\">\n",
       "      <th></th>\n",
       "      <th>imageId</th>\n",
       "      <th>url</th>\n",
       "    </tr>\n",
       "  </thead>\n",
       "  <tbody>\n",
       "    <tr>\n",
       "      <th>0</th>\n",
       "      <td>1</td>\n",
       "      <td>https://contestimg.wish.com/api/webimage/570f3...</td>\n",
       "    </tr>\n",
       "    <tr>\n",
       "      <th>1</th>\n",
       "      <td>2</td>\n",
       "      <td>https://contestimg.wish.com/api/webimage/5468f...</td>\n",
       "    </tr>\n",
       "    <tr>\n",
       "      <th>2</th>\n",
       "      <td>3</td>\n",
       "      <td>https://contestimg.wish.com/api/webimage/54641...</td>\n",
       "    </tr>\n",
       "    <tr>\n",
       "      <th>3</th>\n",
       "      <td>4</td>\n",
       "      <td>https://contestimg.wish.com/api/webimage/550b9...</td>\n",
       "    </tr>\n",
       "    <tr>\n",
       "      <th>4</th>\n",
       "      <td>5</td>\n",
       "      <td>https://contestimg.wish.com/api/webimage/54451...</td>\n",
       "    </tr>\n",
       "  </tbody>\n",
       "</table>\n",
       "</div>"
      ],
      "text/plain": [
       "  imageId                                                url\n",
       "0       1  https://contestimg.wish.com/api/webimage/570f3...\n",
       "1       2  https://contestimg.wish.com/api/webimage/5468f...\n",
       "2       3  https://contestimg.wish.com/api/webimage/54641...\n",
       "3       4  https://contestimg.wish.com/api/webimage/550b9...\n",
       "4       5  https://contestimg.wish.com/api/webimage/54451..."
      ]
     },
     "metadata": {},
     "output_type": "display_data"
    },
    {
     "name": "stdout",
     "output_type": "stream",
     "text": [
      "\n",
      "Labels df\n",
      "------\n"
     ]
    },
    {
     "data": {
      "text/html": [
       "<div>\n",
       "<style scoped>\n",
       "    .dataframe tbody tr th:only-of-type {\n",
       "        vertical-align: middle;\n",
       "    }\n",
       "\n",
       "    .dataframe tbody tr th {\n",
       "        vertical-align: top;\n",
       "    }\n",
       "\n",
       "    .dataframe thead th {\n",
       "        text-align: right;\n",
       "    }\n",
       "</style>\n",
       "<table border=\"1\" class=\"dataframe\">\n",
       "  <thead>\n",
       "    <tr style=\"text-align: right;\">\n",
       "      <th></th>\n",
       "      <th>imageId</th>\n",
       "      <th>labelId</th>\n",
       "    </tr>\n",
       "  </thead>\n",
       "  <tbody>\n",
       "    <tr>\n",
       "      <th>0</th>\n",
       "      <td>1</td>\n",
       "      <td>[95, 66, 137, 70, 20]</td>\n",
       "    </tr>\n",
       "    <tr>\n",
       "      <th>1</th>\n",
       "      <td>2</td>\n",
       "      <td>[36, 66, 44, 214, 105, 133]</td>\n",
       "    </tr>\n",
       "    <tr>\n",
       "      <th>2</th>\n",
       "      <td>3</td>\n",
       "      <td>[170, 66, 97, 153, 105, 138]</td>\n",
       "    </tr>\n",
       "    <tr>\n",
       "      <th>3</th>\n",
       "      <td>4</td>\n",
       "      <td>[18, 66, 44, 153, 164]</td>\n",
       "    </tr>\n",
       "    <tr>\n",
       "      <th>4</th>\n",
       "      <td>5</td>\n",
       "      <td>[189, 66, 176, 137, 153, 74, 181, 171, 138]</td>\n",
       "    </tr>\n",
       "  </tbody>\n",
       "</table>\n",
       "</div>"
      ],
      "text/plain": [
       "  imageId                                      labelId\n",
       "0       1                        [95, 66, 137, 70, 20]\n",
       "1       2                  [36, 66, 44, 214, 105, 133]\n",
       "2       3                 [170, 66, 97, 153, 105, 138]\n",
       "3       4                       [18, 66, 44, 153, 164]\n",
       "4       5  [189, 66, 176, 137, 153, 74, 181, 171, 138]"
      ]
     },
     "metadata": {},
     "output_type": "display_data"
    }
   ],
   "source": [
    "with open('data/iMaterialist/train.json') as f:\n",
    "    j = json.load(f)\n",
    "    urls = pd.DataFrame(j['images'])\n",
    "    labels = pd.DataFrame(j['annotations'])\n",
    "\n",
    "print('URLs df\\n------')\n",
    "display(urls.head())\n",
    "\n",
    "print('\\nLabels df\\n------')\n",
    "display(labels.head())"
   ]
  },
  {
   "cell_type": "code",
   "execution_count": 72,
   "metadata": {},
   "outputs": [],
   "source": [
    "def stack_labels(df):\n",
    "    stacked = df['labelId'].apply(pd.Series)\n",
    "    stacked['image_id'] = df['imageId'].values\n",
    "    stacked['label_count'] = df['labelId'].apply(len).values\n",
    "    stacked = stacked.melt(id_vars=['image_id', 'label_count'],\n",
    "                           value_name='label')\n",
    "    stacked = stacked.drop('variable', axis=1).dropna()\n",
    "    stacked['label'] = stacked['label'].astype(int)\n",
    "    stacked = stacked.sort_values(by=['image_id', 'label'])\n",
    "    stacked = stacked.reset_index(drop=True)\n",
    "    return stacked"
   ]
  },
  {
   "cell_type": "code",
   "execution_count": 74,
   "metadata": {},
   "outputs": [
    {
     "name": "stdout",
     "output_type": "stream",
     "text": [
      "CPU times: user 4min, sys: 6.09 s, total: 4min 6s\n",
      "Wall time: 3min 48s\n"
     ]
    }
   ],
   "source": [
    "%%time\n",
    "stacked = stack_labels(labels)"
   ]
  },
  {
   "cell_type": "code",
   "execution_count": 114,
   "metadata": {},
   "outputs": [
    {
     "data": {
      "text/html": [
       "<div>\n",
       "<style scoped>\n",
       "    .dataframe tbody tr th:only-of-type {\n",
       "        vertical-align: middle;\n",
       "    }\n",
       "\n",
       "    .dataframe tbody tr th {\n",
       "        vertical-align: top;\n",
       "    }\n",
       "\n",
       "    .dataframe thead th {\n",
       "        text-align: right;\n",
       "    }\n",
       "</style>\n",
       "<table border=\"1\" class=\"dataframe\">\n",
       "  <thead>\n",
       "    <tr style=\"text-align: right;\">\n",
       "      <th></th>\n",
       "      <th>image_id</th>\n",
       "      <th>label_count</th>\n",
       "      <th>label</th>\n",
       "    </tr>\n",
       "  </thead>\n",
       "  <tbody>\n",
       "    <tr>\n",
       "      <th>0</th>\n",
       "      <td>1</td>\n",
       "      <td>5</td>\n",
       "      <td>20</td>\n",
       "    </tr>\n",
       "    <tr>\n",
       "      <th>1</th>\n",
       "      <td>1</td>\n",
       "      <td>5</td>\n",
       "      <td>66</td>\n",
       "    </tr>\n",
       "    <tr>\n",
       "      <th>2</th>\n",
       "      <td>1</td>\n",
       "      <td>5</td>\n",
       "      <td>70</td>\n",
       "    </tr>\n",
       "    <tr>\n",
       "      <th>3</th>\n",
       "      <td>1</td>\n",
       "      <td>5</td>\n",
       "      <td>95</td>\n",
       "    </tr>\n",
       "    <tr>\n",
       "      <th>4</th>\n",
       "      <td>1</td>\n",
       "      <td>5</td>\n",
       "      <td>137</td>\n",
       "    </tr>\n",
       "  </tbody>\n",
       "</table>\n",
       "</div>"
      ],
      "text/plain": [
       "  image_id  label_count  label\n",
       "0        1            5     20\n",
       "1        1            5     66\n",
       "2        1            5     70\n",
       "3        1            5     95\n",
       "4        1            5    137"
      ]
     },
     "metadata": {},
     "output_type": "display_data"
    },
    {
     "name": "stdout",
     "output_type": "stream",
     "text": [
      "Stacked df shape: 5,921,854, 3\n"
     ]
    }
   ],
   "source": [
    "display(stacked.head())\n",
    "print('Stacked df shape: {:,}, {}'.format(*stacked.shape))"
   ]
  },
  {
   "cell_type": "code",
   "execution_count": 118,
   "metadata": {},
   "outputs": [
    {
     "name": "stdout",
     "output_type": "stream",
     "text": [
      "Top 5 labels\n",
      "---------\n"
     ]
    },
    {
     "data": {
      "text/plain": [
       "66     743250\n",
       "105    330864\n",
       "153    261844\n",
       "17     251869\n",
       "171    243038\n",
       "Name: label, dtype: int64"
      ]
     },
     "metadata": {},
     "output_type": "display_data"
    },
    {
     "name": "stdout",
     "output_type": "stream",
     "text": [
      "\n",
      "\n",
      "\n",
      "Bottom 5 labels\n",
      "---------\n"
     ]
    },
    {
     "data": {
      "text/plain": [
       "84     52\n",
       "162    52\n",
       "145    41\n",
       "16     23\n",
       "163     7\n",
       "Name: label, dtype: int64"
      ]
     },
     "metadata": {},
     "output_type": "display_data"
    }
   ],
   "source": [
    "vc = stacked.label.value_counts()\n",
    "print('Top 5 labels\\n---------')\n",
    "display(vc[:5])\n",
    "\n",
    "print('\\n\\n\\nBottom 5 labels\\n---------')\n",
    "display(vc[-5:])"
   ]
  },
  {
   "cell_type": "markdown",
   "metadata": {},
   "source": [
    "# Extract images to use for training\n",
    "\n",
    "Extract ~30,000 images with following conditions:\n",
    "1. Each label has similar number of images associated with it\n",
    "2. Utilize images with the fewest possible labels as priorty\n",
    "3. use ~30,000 images total"
   ]
  },
  {
   "cell_type": "code",
   "execution_count": 120,
   "metadata": {},
   "outputs": [
    {
     "name": "stdout",
     "output_type": "stream",
     "text": [
      "Number of Images for Training: 33,048\n"
     ]
    },
    {
     "data": {
      "image/png": "[encoded data removed]",
      "text/plain": [
       "<Figure size 432x288 with 1 Axes>"
      ]
     },
     "metadata": {},
     "output_type": "display_data"
    }
   ],
   "source": [
    "t = stacked.sort_values('label_count').groupby('label').head(150)\n",
    "print('Number of Images for Training: {:,}'.format(t.shape[0]))\n",
    "\n",
    "t.label_count.hist()\n",
    "plt.title('# of labels in 33,000 images')\n",
    "plt.xlabel('Distinct labels for a given image')\n",
    "plt.show()"
   ]
  },
  {
   "cell_type": "code",
   "execution_count": 124,
   "metadata": {},
   "outputs": [
    {
     "name": "stdout",
     "output_type": "stream",
     "text": [
      "Top 5 labels\n",
      "---------\n"
     ]
    },
    {
     "data": {
      "text/plain": [
       "223    150\n",
       "201    150\n",
       "139    150\n",
       "75     150\n",
       "43     150\n",
       "Name: label, dtype: int64"
      ]
     },
     "metadata": {},
     "output_type": "display_data"
    },
    {
     "name": "stdout",
     "output_type": "stream",
     "text": [
      "\n",
      "\n",
      "\n",
      "Bottom 15 labels\n",
      "---------\n"
     ]
    },
    {
     "data": {
      "text/plain": [
       "148    150\n",
       "214    150\n",
       "215     99\n",
       "161     98\n",
       "1       79\n",
       "156     73\n",
       "46      71\n",
       "86      69\n",
       "41      68\n",
       "107     66\n",
       "84      52\n",
       "162     52\n",
       "145     41\n",
       "16      23\n",
       "163      7\n",
       "Name: label, dtype: int64"
      ]
     },
     "metadata": {},
     "output_type": "display_data"
    }
   ],
   "source": [
    "vc = t.label.value_counts()\n",
    "print('Top 5 labels\\n---------')\n",
    "display(vc[:5])\n",
    "\n",
    "print('\\n\\n\\nBottom 15 labels\\n---------')\n",
    "display(vc[-15:])"
   ]
  },
  {
   "cell_type": "markdown",
   "metadata": {},
   "source": [
    "# Assemble list of urls to download"
   ]
  },
  {
   "cell_type": "code",
   "execution_count": 129,
   "metadata": {},
   "outputs": [],
   "source": [
    "unique_images = t.image_id.unique()"
   ]
  },
  {
   "cell_type": "code",
   "execution_count": 188,
   "metadata": {},
   "outputs": [
    {
     "name": "stderr",
     "output_type": "stream",
     "text": [
      "/home/paperspace/anaconda3/envs/fastai/lib/python3.6/site-packages/ipykernel_launcher.py:2: SettingWithCopyWarning: \n",
      "A value is trying to be set on a copy of a slice from a DataFrame.\n",
      "Try using .loc[row_indexer,col_indexer] = value instead\n",
      "\n",
      "See the caveats in the documentation: http://pandas.pydata.org/pandas-docs/stable/indexing.html#indexing-view-versus-copy\n",
      "  \n"
     ]
    }
   ],
   "source": [
    "csv = labels.loc[labels['imageId'].isin(unique_images), :]\n",
    "csv['label'] = csv['labelId'].str.join(' ').values\n",
    "csv = csv.drop('labelId', axis=1)\n",
    "csv.columns = ['id', 'label']"
   ]
  },
  {
   "cell_type": "code",
   "execution_count": 192,
   "metadata": {},
   "outputs": [],
   "source": [
    "csv.to_csv('data/iMaterialist/train_30k_labels.csv', index=False)"
   ]
  }
 ],
 "metadata": {
  "kernelspec": {
   "display_name": "Python 3",
   "language": "python",
   "name": "python3"
  },
  "language_info": {
   "codemirror_mode": {
    "name": "ipython",
    "version": 3
   },
   "file_extension": ".py",
   "mimetype": "text/x-python",
   "name": "python",
   "nbconvert_exporter": "python",
   "pygments_lexer": "ipython3",
   "version": "3.6.5"
  }
 },
 "nbformat": 4,
 "nbformat_minor": 2
}
