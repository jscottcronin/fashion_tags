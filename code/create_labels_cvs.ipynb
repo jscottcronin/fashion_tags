{
 "cells": [
  {
   "cell_type": "code",
   "execution_count": 1,
   "metadata": {},
   "outputs": [],
   "source": [
    "import pandas as pd\n",
    "import json\n",
    "import os"
   ]
  },
  {
   "cell_type": "code",
   "execution_count": 2,
   "metadata": {},
   "outputs": [],
   "source": [
    "PATH = '/home/paperspace/data/iMaterialist/'"
   ]
  },
  {
   "cell_type": "code",
   "execution_count": 36,
   "metadata": {},
   "outputs": [],
   "source": [
    "dfs = []\n",
    "# for split in ['train', 'validation']:\n",
    "for split in ['train']:\n",
    "    with open(f'{PATH}{split}.json', 'r') as f:\n",
    "        d = json.load(f)\n",
    "    df = pd.DataFrame(d['annotations'])\n",
    "    df.columns = ['id', 'label']\n",
    "    df['label'] = df['label'].apply(lambda x: ' '.join(x))\n",
    "    dfs.append(df)\n",
    "labels = pd.concat(dfs, ignore_index=True)\n",
    "labels.to_csv(f'{PATH}labels.csv')"
   ]
  }
 ],
 "metadata": {
  "kernelspec": {
   "display_name": "Python 3",
   "language": "python",
   "name": "python3"
  },
  "language_info": {
   "codemirror_mode": {
    "name": "ipython",
    "version": 3
   },
   "file_extension": ".py",
   "mimetype": "text/x-python",
   "name": "python",
   "nbconvert_exporter": "python",
   "pygments_lexer": "ipython3",
   "version": "3.6.5"
  }
 },
 "nbformat": 4,
 "nbformat_minor": 2
}
